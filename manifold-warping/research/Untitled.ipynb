{
 "cells": [
  {
   "cell_type": "code",
   "execution_count": 1,
   "id": "0d439a80-d10c-4ef3-9003-317c7b0472a2",
   "metadata": {},
   "outputs": [],
   "source": [
    "from stage11_well_benchmark_latest_funnel import make_synthetic_traces, geodesic_parse_report\n",
    "import numpy as np\n",
    "rng = np.random.default_rng(42)\n",
    "traces, true_order = make_synthetic_traces(rng, T=720, noise=0.02, cm_amp=0.02,\n",
    "                                           overlap=0.5, amp_jitter=0.4, distractor_prob=0.4,\n",
    "                                           tasks_k=(1,3))\n",
    "keepA, orderA = geodesic_parse_report(traces, sigma=9, proto_width=160)"
   ]
  }
 ],
 "metadata": {
  "kernelspec": {
   "display_name": "Python 3 (ipykernel)",
   "language": "python",
   "name": "python3"
  },
  "language_info": {
   "codemirror_mode": {
    "name": "ipython",
    "version": 3
   },
   "file_extension": ".py",
   "mimetype": "text/x-python",
   "name": "python",
   "nbconvert_exporter": "python",
   "pygments_lexer": "ipython3",
   "version": "3.10.0rc2"
  }
 },
 "nbformat": 4,
 "nbformat_minor": 5
}
